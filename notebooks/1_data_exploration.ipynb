{
  "cells": [
    {
      "cell_type": "markdown",
      "metadata": {},
      "source": [
        "# Data Exploration (EDA) for CICDDoS2019 Dataset"
      ]
    },
    {
      "cell_type": "code",
      "execution_count": null,
      "metadata": {},
      "outputs": [],
      "source": [
        "import pandas as pd\n",
        "import numpy as np\n",
        "import matplotlib.pyplot as plt\n",
        "import seaborn as sns\n",
        "\n",
        "# Load the dataset\n",
        "try:\n",
        "    df = pd.read_csv('../data/raw/CICDDoS2019.csv')\n",
        "    print(\"Dataset loaded successfully.\")\n",
        "except FileNotFoundError:\n",
        "    print(\"Error: CICDDoS2019.csv not found. Please ensure the dataset is in the 'data/raw/' directory.\")\n",
        "    df = None\n",
        "\n",
        "if df is not None:\n",
        "    # Display basic information\n",
        "    print(\"\\n--- Dataset Info ---\")\n",
        "    df.info()\n",
        "\n",
        "    print(\"\\n--- First 5 Rows ---\")\n",
        "    print(df.head())\n",
        "\n",
        "    print(\"\\n--- Dataset Description ---\")\n",
        "    print(df.describe())\n",
        "\n",
        "    # Check for missing values\n",
        "    print(\"\\n--- Missing Values ---\")\n",
        "    missing_values = df.isnull().sum()\n",
        "    print(missing_values[missing_values > 0])\n",
        "\n",
        "    # Check for infinite values\n",
        "    print(\"\\n--- Infinite Values ---\")\n",
        "    infinite_values = df.isin([np.inf, -np.inf]).sum()\n",
        "    print(infinite_values[infinite_values > 0])\n",
        "\n",
        "    # Distribution of attack types\n",
        "    print(\"\\n--- Distribution of Labels ---\")\n",
        "    print(df['Label'].value_counts())\n",
        "\n",
        "    plt.figure(figsize=(12, 6))\n",
        "    sns.countplot(data=df, x='Label')\n",
        "    plt.title('Distribution of Attack Types')\n",
        "    plt.xticks(rotation=45)\n",
        "    plt.show()\n",
        "\n",
        "    # Example: Distribution of a numerical feature (e.g., 'Flow Duration')\n",
        "    if 'Flow Duration' in df.columns:\n",
        "        plt.figure(figsize=(10, 5))\n",
        "        sns.histplot(df['Flow Duration'], bins=50, kde=True)\n",
        "        plt.title('Distribution of Flow Duration')\n",
        "        plt.xlabel('Flow Duration')\n",
        "        plt.ylabel('Frequency')\n",
        "        plt.show()\n",
        "\n",
        "    # Correlation matrix (for numerical features)\n",
        "    print(\"\\n--- Correlation Matrix (Top 10 features) ---\")\n",
        "    numerical_cols = df.select_dtypes(include=np.number).columns.tolist()\n",
        "    if len(numerical_cols) > 1:\n",
        "        corr_matrix = df[numerical_cols].corr()\n",
        "        plt.figure(figsize=(14, 10))\n",
        "        sns.heatmap(corr_matrix.abs().nlargest(10, 'Flow Duration').index.to_list(), annot=True, cmap='coolwarm')\n",
        "        plt.title('Correlation Matrix of Numerical Features')\n",
        "        plt.show()\n",
        "    else:\n",
        "        print(\"Not enough numerical columns to compute correlation matrix.\")"
      ]
    }
  ],
  "metadata": {
    "kernelspec": {
      "display_name": "Python 3",
      "language": "python",
      "name": "python3"
    },
    "language_info": {
      "codemirror_mode": {
        "name": "ipython",
        "version": 3
      },
      "file_extension": ".py",
      "mimetype": "text/x-python",
      "name": "python",
      "nbconvert_exporter": "python",
      "pygments_lexer": "ipython3",
      "version": "3.8.10"
    }
  },
  "nbformat": 4,
  "nbformat_minor": 4
}