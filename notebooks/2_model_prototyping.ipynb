{
  "cells": [
    {
      "cell_type": "markdown",
      "metadata": {},
      "source": [
        "# Model Prototyping and Data Preprocessing"
      ]
    },
    {
      "cell_type": "code",
      "execution_count": null,
      "metadata": {},
      "outputs": [],
      "source": [
        "import pandas as pd\n",
        "import numpy as np\n",
        "import joblib\n",
        "from src.data_preprocessing import preprocess_data\n",
        "\n",
        "# Load the dataset\n",
        "try:\n",
        "    df = pd.read_csv('../data/raw/CICDDoS2019.csv')\n",
        "    print(\"Dataset loaded successfully.\")\n",
        "except FileNotFoundError:\n",
        "    print(\"Error: CICDDoS2019.csv not found. Please ensure the dataset is in the 'data/raw/' directory.\")\n",
        "    df = None\n",
        "\n",
        "if df is not None:\n",
        "    # Preprocess the data\n",
        "    X_train_resampled, X_test, y_train_resampled, y_test, scaler, selector, selected_features = preprocess_data(df, target_column='Label')\n",
        "\n",
        "    print(\"\\n--- Preprocessing Complete ---\")\n",
        "    print(f\"Shape of X_train_resampled: {X_train_resampled.shape}\")\n",
        "    print(f\"Shape of X_test: {X_test.shape}\")\n",
        "    print(f\"Selected features: {selected_features}\")\n",
        "\n",
        "    # Save processed data\n",
        "    X_train_resampled.to_csv('../data/processed/train_data_features.csv', index=False)\n",
        "    y_train_resampled.to_csv('../data/processed/train_data_labels.csv', index=False)\n",
        "    X_test.to_csv('../data/processed/test_data_features.csv', index=False)\n",
        "    y_test.to_csv('../data/processed/test_data_labels.csv', index=False)\n",
        "\n",
        "    # Save scaler and feature selector for later use in prediction\n",
        "    joblib.dump(scaler, '../models/minmax_scaler.pkl')\n",
        "    joblib.dump(selector, '../models/feature_selector.pkl')\n",
        "    joblib.dump(selected_features, '../models/selected_features.pkl')\n",
        "\n",
        "    print(\"Processed data, scaler, and feature selector saved successfully to 'data/processed/' and 'models/' directories.\")\n",
        "\n",
        "    # --- XGBoost Model Training (Placeholder) ---\n",
        "    print(\"\\n--- XGBoost Model Training (Next Step) ---\")\n",
        "    # This section will be filled in model_training.py\n",
        "\n",
        "    # --- LSTM Autoencoder Model Training (Placeholder) ---\n",
        "    print(\"\\n--- LSTM Autoencoder Model Training (Next Step) ---\")\n",
        "    # This section will be filled in model_training.py\n"
      ]
    }
  ],
  "metadata": {
    "kernelspec": {
      "display_name": "Python 3",
      "language": "python",
      "name": "python3"
    },
    "language_info": {
      "codemirror_mode": {
        "name": "ipython",
        "version": 3
      },
      "file_extension": ".py",
      "mimetype": "text/x-python",
      "name": "python",
      "nbconvert_exporter": "python",
      "pygments_lexer": "ipython3",
      "version": "3.8.10"
    }
  },
  "nbformat": 4,
  "nbformat_minor": 4
}